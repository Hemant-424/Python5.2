{
 "cells": [
  {
   "cell_type": "markdown",
   "metadata": {},
   "source": [
    "### Assignment 5.2"
   ]
  },
  {
   "cell_type": "markdown",
   "metadata": {},
   "source": [
    "### Problem​ ​Statement​ ​1:\n",
    "#### Implement a Python program to generate all sentences where subject is in\n",
    "#### [\"Americans\", \"Indians\"] and verb is in [\"Play\", \"watch\"] and the object is in[\"Baseball\",\"cricket\"].\n",
    "#### Hint: Subject,Verb and Object should be declared in the program as shown below.\n",
    "#### subjects=[\"Americans \",\"Indians\"]\n",
    "#### verbs=[\"play\",\"watch\"]\n",
    "#### objects=[\"Baseball\",\"Cricket\"]\n",
    "#### Output should come as below:\n",
    "#### Americans play Baseball.\n",
    "#### Americans play Cricket.\n",
    "#### Americans watch Baseball.\n",
    "#### Americans watch Cricket.\n",
    "#### Indians play Baseball.\n",
    "#### Indians play Cricket.\n",
    "#### Indians watch Baseball.\n",
    "#### Indians watch Cricket."
   ]
  },
  {
   "cell_type": "code",
   "execution_count": 1,
   "metadata": {},
   "outputs": [],
   "source": [
    "class Country:\n",
    "    def __init__(self,names,verb,objects):\n",
    "        self.names = names\n",
    "        self.verb = verb\n",
    "        self.objects = objects \n",
    "    \n",
    "    def match(self):\n",
    "        print(\"{} {} {}\".format(self.names,self.verb,self.objects))"
   ]
  },
  {
   "cell_type": "code",
   "execution_count": 2,
   "metadata": {},
   "outputs": [],
   "source": [
    "play1 = Country(\"American\",\"play\",\"Baseball\")\n",
    "play2 = Country(\"American\",\"play\",\"Cricket\")\n",
    "play3 = Country(\"American\",\"watch\",\"Baseball\")\n",
    "play4 = Country(\"American\",\"watch\",\"Cricket\")"
   ]
  },
  {
   "cell_type": "code",
   "execution_count": 3,
   "metadata": {},
   "outputs": [],
   "source": [
    "play5 = Country(\"Indian\",\"play\",\"Baseball\")\n",
    "play6 = Country(\"Indian\",\"play\",\"Cricket\")\n",
    "play7 = Country(\"Indian\",\"watch\",\"Baseball\")\n",
    "play8 = Country(\"Indian\",\"watch\",\"Cricket\")"
   ]
  },
  {
   "cell_type": "code",
   "execution_count": 4,
   "metadata": {},
   "outputs": [
    {
     "name": "stdout",
     "output_type": "stream",
     "text": [
      "American play Baseball\n",
      "American play Cricket\n",
      "American watch Baseball\n",
      "American watch Cricket\n",
      "Indian play Baseball\n",
      "Indian play Cricket\n",
      "Indian watch Baseball\n",
      "Indian watch Cricket\n"
     ]
    }
   ],
   "source": [
    "play1.match()\n",
    "play2.match()\n",
    "play3.match()\n",
    "play4.match()\n",
    "play5.match()\n",
    "play6.match()\n",
    "play7.match()\n",
    "play8.match()"
   ]
  }
 ],
 "metadata": {
  "kernelspec": {
   "display_name": "Python 3",
   "language": "python",
   "name": "python3"
  },
  "language_info": {
   "codemirror_mode": {
    "name": "ipython",
    "version": 3
   },
   "file_extension": ".py",
   "mimetype": "text/x-python",
   "name": "python",
   "nbconvert_exporter": "python",
   "pygments_lexer": "ipython3",
   "version": "3.7.1"
  }
 },
 "nbformat": 4,
 "nbformat_minor": 2
}
